{
 "cells": [
  {
   "cell_type": "code",
   "execution_count": 1,
   "id": "98da3635",
   "metadata": {},
   "outputs": [
    {
     "name": "stderr",
     "output_type": "stream",
     "text": [
      "/Users/jonathan/miniconda3/envs/grandmaster/lib/python3.8/site-packages/tqdm/auto.py:22: TqdmWarning: IProgress not found. Please update jupyter and ipywidgets. See https://ipywidgets.readthedocs.io/en/stable/user_install.html\n",
      "  from .autonotebook import tqdm as notebook_tqdm\n",
      "Fetching 14 files: 100%|███████████████████████████████████████| 14/14 [00:00<00:00, 8512.65it/s]\n",
      "ftfy or spacy is not installed using BERT BasicTokenizer instead of ftfy.\n"
     ]
    }
   ],
   "source": [
    "import requests\n",
    "from PIL import Image\n",
    "from io import BytesIO\n",
    "from diffusers import StableDiffusionUpscalePipeline\n",
    "import torch\n",
    "\n",
    "model_id = \"stabilityai/stable-diffusion-x4-upscaler\"\n",
    "pipeline = StableDiffusionUpscalePipeline.from_pretrained(\n",
    "    model_id, revision=\"fp16\", torch_dtype=torch.float16\n",
    ")"
   ]
  },
  {
   "cell_type": "code",
   "execution_count": 2,
   "id": "d7505c8f",
   "metadata": {},
   "outputs": [],
   "source": [
    "pipeline = pipeline.to(\"mps\")\n",
    "pipeline.enable_attention_slicing()"
   ]
  },
  {
   "cell_type": "code",
   "execution_count": 3,
   "id": "acf7e13d",
   "metadata": {},
   "outputs": [],
   "source": [
    "# let's download an  image\n",
    "url = \"https://huggingface.co/datasets/hf-internal-testing/diffusers-images/resolve/main/sd2-upscale/low_res_cat.png\"\n",
    "response = requests.get(url)\n",
    "low_res_img = Image.open(BytesIO(response.content)).convert(\"RGB\")\n",
    "low_res_img = low_res_img.resize((64, 64))\n",
    "prompt = \"a white cat\""
   ]
  },
  {
   "cell_type": "code",
   "execution_count": null,
   "id": "ecb20d32",
   "metadata": {},
   "outputs": [],
   "source": [
    "upscaled_image = pipeline(prompt=prompt, image=low_res_img).images[0]\n",
    "upscaled_image.save(\"upsampled_cat.png\")"
   ]
  },
  {
   "cell_type": "code",
   "execution_count": null,
   "id": "9dd7223b",
   "metadata": {},
   "outputs": [],
   "source": []
  }
 ],
 "metadata": {
  "kernelspec": {
   "display_name": "Python 3 (ipykernel)",
   "language": "python",
   "name": "python3"
  },
  "language_info": {
   "codemirror_mode": {
    "name": "ipython",
    "version": 3
   },
   "file_extension": ".py",
   "mimetype": "text/x-python",
   "name": "python",
   "nbconvert_exporter": "python",
   "pygments_lexer": "ipython3",
   "version": "3.8.13"
  }
 },
 "nbformat": 4,
 "nbformat_minor": 5
}
