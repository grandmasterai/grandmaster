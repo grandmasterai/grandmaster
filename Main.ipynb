{
 "cells": [
  {
   "cell_type": "code",
   "execution_count": 1,
   "id": "8b09110f",
   "metadata": {},
   "outputs": [],
   "source": [
    "%load_ext autoreload\n",
    "%autoreload 2"
   ]
  },
  {
   "cell_type": "code",
   "execution_count": 6,
   "id": "7d478a17",
   "metadata": {},
   "outputs": [],
   "source": [
    "from grandmaster import list_tasks, list_models"
   ]
  },
  {
   "cell_type": "code",
   "execution_count": 4,
   "id": "51332f88",
   "metadata": {},
   "outputs": [
    {
     "data": {
      "text/plain": [
       "[{'inputs': [{'dataType': 'IMAGE'}, {'dataType': 'TEXT'}],\n",
       "  'outputs': [{'dataType': 'LABEL'}]}]"
      ]
     },
     "execution_count": 4,
     "metadata": {},
     "output_type": "execute_result"
    }
   ],
   "source": [
    "task0 = list_tasks()[0]\n",
    "list_tasks()"
   ]
  },
  {
   "cell_type": "code",
   "execution_count": 5,
   "id": "5b7b38f9",
   "metadata": {},
   "outputs": [
    {
     "data": {
      "text/plain": [
       "[{'inputs': [{'dataType': 'IMAGE'}, {'dataType': 'TEXT'}],\n",
       "  'outputs': [{'dataType': 'LABEL'}],\n",
       "  'settings': {},\n",
       "  'model_name': 'openai/clip-vit-base-patch16'}]"
      ]
     },
     "execution_count": 5,
     "metadata": {},
     "output_type": "execute_result"
    }
   ],
   "source": [
    "list_models(task=task0)"
   ]
  },
  {
   "cell_type": "code",
   "execution_count": null,
   "id": "ff0f06bd",
   "metadata": {},
   "outputs": [],
   "source": [
    "get_model()"
   ]
  },
  {
   "cell_type": "code",
   "execution_count": null,
   "id": "092988bd",
   "metadata": {},
   "outputs": [],
   "source": [
    "from grandmaster import get_task, load_image\n",
    "\n",
    "task = get_task(\n",
    "    inputs={\"dataType\": \"IMAGE\"}, outputs={\"dataType\": \"LABEL\"}\n",
    ")\n",
    "image = load_image(\"http://localhost:3000/ex/puppy.jpeg\")\n",
    "task.inference(image)"
   ]
  },
  {
   "cell_type": "code",
   "execution_count": null,
   "id": "dd5b7056",
   "metadata": {},
   "outputs": [],
   "source": [
    "from urllib.parse import urlparse"
   ]
  },
  {
   "cell_type": "code",
   "execution_count": null,
   "id": "7eed10b7",
   "metadata": {},
   "outputs": [],
   "source": [
    "urlparse(\"nothing\")"
   ]
  },
  {
   "cell_type": "code",
   "execution_count": null,
   "id": "7b644fee",
   "metadata": {},
   "outputs": [],
   "source": [
    "urlparse(\"ttp://localhost:3000/ex/puppy.jpeg\")"
   ]
  },
  {
   "cell_type": "code",
   "execution_count": 2,
   "id": "a0dcad55",
   "metadata": {},
   "outputs": [
    {
     "name": "stderr",
     "output_type": "stream",
     "text": [
      "/Users/jonathan/miniconda3/envs/grandmaster/lib/python3.8/site-packages/tqdm/auto.py:22: TqdmWarning: IProgress not found. Please update jupyter and ipywidgets. See https://ipywidgets.readthedocs.io/en/stable/user_install.html\n",
      "  from .autonotebook import tqdm as notebook_tqdm\n"
     ]
    }
   ],
   "source": [
    "from grandmaster.models import CLIP"
   ]
  },
  {
   "cell_type": "code",
   "execution_count": 3,
   "id": "b32f67e4",
   "metadata": {},
   "outputs": [
    {
     "data": {
      "text/plain": [
       "grandmaster.models.hf.openai.models.CLIP"
      ]
     },
     "execution_count": 3,
     "metadata": {},
     "output_type": "execute_result"
    }
   ],
   "source": [
    "CLIP"
   ]
  },
  {
   "cell_type": "code",
   "execution_count": 4,
   "id": "b2c1ef1c",
   "metadata": {},
   "outputs": [
    {
     "data": {
      "text/plain": [
       "[<grandmaster.Task.create_task.<locals>.TaskImpl at 0x103da7730>]"
      ]
     },
     "execution_count": 4,
     "metadata": {},
     "output_type": "execute_result"
    }
   ],
   "source": [
    "CLIP().tasks()"
   ]
  },
  {
   "cell_type": "code",
   "execution_count": 5,
   "id": "9cd5ff91",
   "metadata": {},
   "outputs": [
    {
     "data": {
      "text/plain": [
       "True"
      ]
     },
     "execution_count": 5,
     "metadata": {},
     "output_type": "execute_result"
    }
   ],
   "source": [
    "CLIP().tasks()[0].check({\"dataType\": \"IMAGE\"}, {\"dataType\": \"LABEL\"})"
   ]
  },
  {
   "cell_type": "code",
   "execution_count": 6,
   "id": "19c55e5f",
   "metadata": {},
   "outputs": [
    {
     "ename": "TypeError",
     "evalue": "string indices must be integers",
     "output_type": "error",
     "traceback": [
      "\u001b[0;31m---------------------------------------------------------------------------\u001b[0m",
      "\u001b[0;31mTypeError\u001b[0m                                 Traceback (most recent call last)",
      "Cell \u001b[0;32mIn [6], line 1\u001b[0m\n\u001b[0;32m----> 1\u001b[0m \u001b[43mCLIP\u001b[49m\u001b[43m(\u001b[49m\u001b[43m)\u001b[49m\u001b[38;5;241;43m.\u001b[39;49m\u001b[43mtasks\u001b[49m\u001b[43m(\u001b[49m\u001b[43m)\u001b[49m\u001b[43m[\u001b[49m\u001b[38;5;241;43m0\u001b[39;49m\u001b[43m]\u001b[49m\u001b[38;5;241;43m.\u001b[39;49m\u001b[43minference\u001b[49m\u001b[43m(\u001b[49m\u001b[38;5;124;43m\"\u001b[39;49m\u001b[38;5;124;43mhttp://localhost:3000/ex/puppy.jpeg\u001b[39;49m\u001b[38;5;124;43m\"\u001b[39;49m\u001b[43m)\u001b[49m\n",
      "File \u001b[0;32m~/Desktop/work/grandmaster/repo/open/grandmaster/Task.py:34\u001b[0m, in \u001b[0;36mTask.inference\u001b[0;34m(self, query)\u001b[0m\n\u001b[1;32m     33\u001b[0m \u001b[38;5;28;01mdef\u001b[39;00m \u001b[38;5;21minference\u001b[39m(\u001b[38;5;28mself\u001b[39m, query: Q) \u001b[38;5;241m-\u001b[39m\u001b[38;5;241m>\u001b[39m R:\n\u001b[0;32m---> 34\u001b[0m     x \u001b[38;5;241m=\u001b[39m \u001b[38;5;28;43mself\u001b[39;49m\u001b[38;5;241;43m.\u001b[39;49m\u001b[43mapply\u001b[49m\u001b[43m(\u001b[49m\u001b[43mquery\u001b[49m\u001b[43m)\u001b[49m\n\u001b[1;32m     35\u001b[0m     \u001b[38;5;28;01mreturn\u001b[39;00m \u001b[38;5;28mself\u001b[39m\u001b[38;5;241m.\u001b[39mpostprocess(x)\n",
      "File \u001b[0;32m~/Desktop/work/grandmaster/repo/open/grandmaster/models/hf/openai/models.py:44\u001b[0m, in \u001b[0;36mCLIP.apply\u001b[0;34m(self, query)\u001b[0m\n\u001b[1;32m     43\u001b[0m \u001b[38;5;28;01mdef\u001b[39;00m \u001b[38;5;21mapply\u001b[39m(\u001b[38;5;28mself\u001b[39m, query: ImageZeroShotQueryTypedDict) \u001b[38;5;241m-\u001b[39m\u001b[38;5;241m>\u001b[39m Any:\n\u001b[0;32m---> 44\u001b[0m     image \u001b[38;5;241m=\u001b[39m load_image_from_data(\u001b[43mquery\u001b[49m\u001b[43m[\u001b[49m\u001b[38;5;124;43m\"\u001b[39;49m\u001b[38;5;124;43mimage\u001b[39;49m\u001b[38;5;124;43m\"\u001b[39;49m\u001b[43m]\u001b[49m)\n\u001b[1;32m     45\u001b[0m     processed \u001b[38;5;241m=\u001b[39m \u001b[38;5;28mself\u001b[39m\u001b[38;5;241m.\u001b[39mxprocessor()(\n\u001b[1;32m     46\u001b[0m         text\u001b[38;5;241m=\u001b[39mquery[\u001b[38;5;124m\"\u001b[39m\u001b[38;5;124mcandidate_labels\u001b[39m\u001b[38;5;124m\"\u001b[39m]\u001b[38;5;241m.\u001b[39msplit(\u001b[38;5;124m\"\u001b[39m\u001b[38;5;124m,\u001b[39m\u001b[38;5;124m\"\u001b[39m),\n\u001b[1;32m     47\u001b[0m         images\u001b[38;5;241m=\u001b[39mimage,\n\u001b[1;32m     48\u001b[0m         return_tensors\u001b[38;5;241m=\u001b[39m\u001b[38;5;124m\"\u001b[39m\u001b[38;5;124mpt\u001b[39m\u001b[38;5;124m\"\u001b[39m,\n\u001b[1;32m     49\u001b[0m         padding\u001b[38;5;241m=\u001b[39m\u001b[38;5;28;01mTrue\u001b[39;00m,\n\u001b[1;32m     50\u001b[0m     )\n\u001b[1;32m     51\u001b[0m     x \u001b[38;5;241m=\u001b[39m \u001b[38;5;28mself\u001b[39m\u001b[38;5;241m.\u001b[39mxmodel()(\u001b[38;5;241m*\u001b[39m\u001b[38;5;241m*\u001b[39mprocessed)  \u001b[38;5;66;03m# type: ignore\u001b[39;00m\n",
      "\u001b[0;31mTypeError\u001b[0m: string indices must be integers"
     ]
    }
   ],
   "source": [
    "CLIP().tasks()[0].inference(\"http://localhost:3000/ex/puppy.jpeg\")"
   ]
  },
  {
   "cell_type": "code",
   "execution_count": 7,
   "id": "b93ce4cb",
   "metadata": {},
   "outputs": [
    {
     "name": "stderr",
     "output_type": "stream",
     "text": [
      "Downloading: 100%|███████████████████████████████████████████████████████████████████████████████████████████████████████████████████████████████████████████████████████████████| 4.19k/4.19k [00:00<00:00, 1.44MB/s]\n",
      "Downloading: 100%|█████████████████████████████████████████████████████████████████████████████████████████████████████████████████████████████████████████████████████████████████| 605M/605M [05:35<00:00, 1.80MB/s]\n",
      "Downloading: 100%|███████████████████████████████████████████████████████████████████████████████████████████████████████████████████████████████████████████████████████████████████| 316/316 [00:00<00:00, 80.3kB/s]\n",
      "Downloading: 100%|████████████████████████████████████████████████████████████████████████████████████████████████████████████████████████████████████████████████████████████████████| 568/568 [00:00<00:00, 140kB/s]\n",
      "Downloading: 100%|██████████████████████████████████████████████████████████████████████████████████████████████████████████████████████████████████████████████████████████████████| 862k/862k [00:01<00:00, 852kB/s]\n",
      "Downloading: 100%|██████████████████████████████████████████████████████████████████████████████████████████████████████████████████████████████████████████████████████████████████| 525k/525k [00:00<00:00, 746kB/s]\n",
      "Downloading: 100%|████████████████████████████████████████████████████████████████████████████████████████████████████████████████████████████████████████████████████████████████| 2.22M/2.22M [00:02<00:00, 893kB/s]\n",
      "Downloading: 100%|███████████████████████████████████████████████████████████████████████████████████████████████████████████████████████████████████████████████████████████████████| 389/389 [00:00<00:00, 75.4kB/s]\n"
     ]
    }
   ],
   "source": [
    "from PIL import Image\n",
    "import requests\n",
    "\n",
    "from transformers import CLIPProcessor, CLIPModel\n",
    "\n",
    "model = CLIPModel.from_pretrained(\"openai/clip-vit-base-patch32\")\n",
    "processor = CLIPProcessor.from_pretrained(\"openai/clip-vit-base-patch32\")\n",
    "\n",
    "url = \"http://images.cocodataset.org/val2017/000000039769.jpg\"\n",
    "image = Image.open(requests.get(url, stream=True).raw)\n",
    "\n",
    "inputs = processor(text=[\"a photo of a cat\", \"a photo of a dog\"], images=image, return_tensors=\"pt\", padding=True)\n",
    "\n",
    "outputs = model(**inputs)\n",
    "#logits_per_image = outputs.logits_per_image  # this is the image-text similarity score\n",
    "#probs = logits_per_image.softmax(dim=1)  # we can take the softmax to get the label probabilities"
   ]
  },
  {
   "cell_type": "code",
   "execution_count": null,
   "id": "d5a76355",
   "metadata": {},
   "outputs": [],
   "source": [
    "outputs.logits_per_image"
   ]
  }
 ],
 "metadata": {
  "kernelspec": {
   "display_name": "Python 3 (ipykernel)",
   "language": "python",
   "name": "python3"
  },
  "language_info": {
   "codemirror_mode": {
    "name": "ipython",
    "version": 3
   },
   "file_extension": ".py",
   "mimetype": "text/x-python",
   "name": "python",
   "nbconvert_exporter": "python",
   "pygments_lexer": "ipython3",
   "version": "3.8.13"
  }
 },
 "nbformat": 4,
 "nbformat_minor": 5
}
